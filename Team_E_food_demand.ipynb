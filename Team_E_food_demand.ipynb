{
 "cells": [
  {
   "cell_type": "code",
   "execution_count": null,
   "id": "836e6c55",
   "metadata": {},
   "outputs": [],
   "source": [
    "!pip install consumerdemands --upgrade\n",
    "!pip install -r requirements.txt\n",
    "\n",
    "import plotly.offline as py\n",
    "import plotly.graph_objs as go\n",
    "\n",
    "py.init_notebook_mode(connected=True)\n",
    "\n",
    "# Uncomment for use in Jupyter Notebook\n",
    "%matplotlib widget\n",
    "\n",
    "# If widget doesn't work, try this (for static images)\n",
    "#%matplotlib inline"
   ]
  },
  {
   "cell_type": "code",
   "execution_count": null,
   "id": "806f6023",
   "metadata": {},
   "outputs": [],
   "source": []
  }
 ],
 "metadata": {
  "kernelspec": {
   "display_name": "Python 3 (ipykernel)",
   "language": "python",
   "name": "python3"
  },
  "language_info": {
   "codemirror_mode": {
    "name": "ipython",
    "version": 3
   },
   "file_extension": ".py",
   "mimetype": "text/x-python",
   "name": "python",
   "nbconvert_exporter": "python",
   "pygments_lexer": "ipython3",
   "version": "3.9.15"
  }
 },
 "nbformat": 4,
 "nbformat_minor": 5
}
